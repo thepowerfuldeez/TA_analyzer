{
 "cells": [
  {
   "cell_type": "code",
   "execution_count": 67,
   "metadata": {
    "collapsed": true
   },
   "outputs": [],
   "source": [
    "import pandas as pd\n",
    "import pickle\n",
    "import vk_api\n",
    "vk_session = vk_api.VkApi(token=\"4ee251bf489b9d88106f08b36239eb0ab39bed07ca3fb9adacf62346cb2981eed59a26f4c29a18123f053\")"
   ]
  },
  {
   "cell_type": "code",
   "execution_count": 68,
   "metadata": {
    "collapsed": true
   },
   "outputs": [],
   "source": [
    "vk_session.authorization()"
   ]
  },
  {
   "cell_type": "code",
   "execution_count": 69,
   "metadata": {
    "collapsed": true
   },
   "outputs": [],
   "source": [
    "cached_ids = pickle.load(open(\"cache.p\", \"rb\"))"
   ]
  },
  {
   "cell_type": "code",
   "execution_count": 70,
   "metadata": {
    "collapsed": false
   },
   "outputs": [],
   "source": [
    "indexes = np.load(\"indexex.npy\")"
   ]
  },
  {
   "cell_type": "code",
   "execution_count": 71,
   "metadata": {
    "collapsed": false
   },
   "outputs": [
    {
     "data": {
      "text/plain": [
       "array([1899, 2523,  318, ..., 2326, 1971, 3170])"
      ]
     },
     "execution_count": 71,
     "metadata": {},
     "output_type": "execute_result"
    }
   ],
   "source": [
    "indexes"
   ]
  },
  {
   "cell_type": "code",
   "execution_count": 72,
   "metadata": {
    "collapsed": true
   },
   "outputs": [],
   "source": [
    "data = pd.read_csv(\"communities.csv\").to_dict()"
   ]
  },
  {
   "cell_type": "code",
   "execution_count": 78,
   "metadata": {
    "collapsed": true
   },
   "outputs": [],
   "source": [
    "def get_many_of_public(group_link, vk_session):\n",
    "    global cached_ids\n",
    "    \n",
    "    shortname = group_link[group_link.rfind(\"/\")+1:]\n",
    "    if \"public\" in shortname:\n",
    "        shortname = shortname[6:]\n",
    "    print(group_link)\n",
    "\n",
    "    r = vk_session.method(\"groups.getById\", {\"group_ids\": shortname})\n",
    "    group_id = r[0][\"id\"]\n",
    "    \n",
    "    if group_id not in cached_ids.keys():\n",
    "    \n",
    "        \"\"\"Все сообщества подписчиков сообщества\"\"\"\n",
    "        users = vk_api.VkTools(vk_session).get_all(\"groups.getMembers\", 100, {'group_id':group_id})['items']\n",
    "        k = int(len(users) / 1000)\n",
    "        if k:\n",
    "            users = users[::k]\n",
    "\n",
    "        data_for_clustering = []\n",
    "        users_publicpages = []\n",
    "        with vk_api.VkRequestsPool(vk_session) as pool:\n",
    "            \n",
    "            for i in range(0, len(users), 1000):\n",
    "                batch = users[i:i+1000]\n",
    "                data_for_clustering.append(pool.method('users.get', {\n",
    "                        \"user_ids\": batch,\n",
    "                        \"fields\": \"sex,age,education,universities,schools,interests,music,movies,bdate,city,country\"\n",
    "                    }))\n",
    "\n",
    "                for user_id in batch:\n",
    "                    users_publicpages.append(pool.method('users.getSubscriptions', {\n",
    "                                \"user_id\": user_id\n",
    "                            }))\n",
    "\n",
    "        data_for_clustering = [x for x in [x.result for x in data_for_clustering]]\n",
    "        t = []\n",
    "        for user in users_publicpages:\n",
    "            try:\n",
    "                t.append(user.result['groups']['items'])\n",
    "            except:\n",
    "                pass\n",
    "        users_publicpages = t\n",
    "        \n",
    "        wall50 = vk_session.method(\"wall.get\", {\"owner_id\": -group_id, \"filter\": \"owner\", \"count\": 100})['items'][::2]\n",
    "        \n",
    "        result = data_for_clustering, users_publicpages, wall50\n",
    "        cached_ids[group_id] = result\n",
    "        pickle.dump(cached_ids, open(\"cache.p\", \"wb\"))\n",
    "        return \n",
    "    else:\n",
    "        return cached_ids[group_id]"
   ]
  },
  {
   "cell_type": "code",
   "execution_count": null,
   "metadata": {
    "collapsed": false
   },
   "outputs": [
    {
     "name": "stdout",
     "output_type": "stream",
     "text": [
      "http://vk.com/public46547413\n",
      "http://vk.com/vrgames267\n",
      "http://vk.com/public28878800\n",
      "http://vk.com/hogwarts_school_official\n",
      "https://vk.com/topgig\n",
      "https://vk.com/real_nostb\n",
      "http://vk.com/domgranat\n",
      "http://vk.com/public62731774\n",
      "http://vk.com/public22902287\n",
      "http://vk.com/gguru\n",
      "https://vk.com/getting_dangerous\n",
      "http://vk.com/rusgametactics\n",
      "http://vk.com/public23513843\n",
      "http://vk.com/putevoditel_russia\n",
      "http://vk.com/uta_no_prince_sama\n",
      "http://vk.com/goodfoodfeelgood\n",
      "http://vk.com/mersedes_2014\n",
      "https://vk.com/bassit_norm\n",
      "http://vk.com/public31068378\n",
      "http://vk.com/8bit_group\n",
      "http://vk.com/public28481050\n",
      "https://vk.com/club29875269\n",
      "http://vk.com/business_inside\n",
      "http://vk.com/animeee_art\n",
      "https://vk.com/ellotv\n",
      "https://vk.com/rockalter\n",
      "http://vk.com/business_diary\n",
      "http://vk.com/atlantis_adventure\n",
      "http://vk.com/spbparkour\n",
      "http://vk.com/public37056240\n",
      "http://vk.com/public_love_cars\n",
      "[100] One of the parameters specified was missing or invalid: group_ids is undefined\n",
      "http://vk.com/club51209390\n"
     ]
    }
   ],
   "source": [
    "from tqdm import tqdm_notebook\n",
    "\n",
    "\n",
    "for i in tqdm_notebook(indexes[:500]):\n",
    "    try:\n",
    "        get_many_of_public(data[\"link\"][i], vk_session)\n",
    "    except KeyError:\n",
    "        pass\n",
    "    except Exception as e:\n",
    "        print(e)"
   ]
  },
  {
   "cell_type": "code",
   "execution_count": 66,
   "metadata": {
    "collapsed": false
   },
   "outputs": [
    {
     "data": {
      "text/plain": [
       "1"
      ]
     },
     "execution_count": 66,
     "metadata": {},
     "output_type": "execute_result"
    }
   ],
   "source": [
    "1"
   ]
  },
  {
   "cell_type": "code",
   "execution_count": null,
   "metadata": {
    "collapsed": true
   },
   "outputs": [],
   "source": []
  }
 ],
 "metadata": {
  "anaconda-cloud": {},
  "kernelspec": {
   "display_name": "Python [conda root]",
   "language": "python",
   "name": "conda-root-py"
  },
  "language_info": {
   "codemirror_mode": {
    "name": "ipython",
    "version": 3
   },
   "file_extension": ".py",
   "mimetype": "text/x-python",
   "name": "python",
   "nbconvert_exporter": "python",
   "pygments_lexer": "ipython3",
   "version": "3.5.2"
  },
  "widgets": {
   "state": {
    "e1234528432e4946944932732c41e9b6": {
     "views": [
      {
       "cell_index": 7
      }
     ]
    }
   },
   "version": "1.2.0"
  }
 },
 "nbformat": 4,
 "nbformat_minor": 1
}
