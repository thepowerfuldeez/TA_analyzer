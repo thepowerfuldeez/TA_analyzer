{
 "cells": [
  {
   "cell_type": "code",
   "execution_count": 1,
   "metadata": {
    "ExecuteTime": {
     "end_time": "2016-12-10T13:17:43.363796",
     "start_time": "2016-12-10T13:17:43.206343"
    },
    "collapsed": true
   },
   "outputs": [],
   "source": [
    "import vk\n",
    "from tqdm import tqdm"
   ]
  },
  {
   "cell_type": "code",
   "execution_count": 2,
   "metadata": {
    "ExecuteTime": {
     "end_time": "2016-12-10T13:17:44.253064",
     "start_time": "2016-12-10T13:17:43.843903"
    },
    "collapsed": false
   },
   "outputs": [],
   "source": [
    "from vk_core import Vk\n",
    "vk_api = Vk()"
   ]
  },
  {
   "cell_type": "code",
   "execution_count": 3,
   "metadata": {
    "ExecuteTime": {
     "end_time": "2016-12-10T13:17:45.251108",
     "start_time": "2016-12-10T13:17:45.247763"
    },
    "collapsed": false
   },
   "outputs": [],
   "source": [
    "session = vk.Session()\n",
    "api = vk.API(session)"
   ]
  },
  {
   "cell_type": "code",
   "execution_count": 5,
   "metadata": {
    "ExecuteTime": {
     "end_time": "2016-12-10T13:17:47.866954",
     "start_time": "2016-12-10T13:17:47.849288"
    },
    "collapsed": true
   },
   "outputs": [],
   "source": [
    "def get_many_of_public(group_id):\n",
    "    \"\"\"Все сообщества подписчиков сообщества\"\"\"\n",
    "    users = vk_api.get_all(\"groups.getMembers\", {\"group_id\": group_id})['items']\n",
    "    data_for_clustering = []\n",
    "    for i in range(0, len(users), 1000):\n",
    "        data_for_clustering.extend(api.users.get(\n",
    "            user_ids=\",\".join(map(str, users[i:i+1000])),\n",
    "            fields=\"sex,age,education,universities,schools,interests,music,movies,bdate,city,country\"\n",
    "        ))\n",
    "    \n",
    "    users_publicpages = []\n",
    "    \n",
    "    \n",
    "    for user in tqdm(users):\n",
    "        # users and communities followed by any user in this public\n",
    "#         users_publicpages.append(base_request(\"users.getSubscriptions\", {\"user_id\": user}))\n",
    "        users_publicpages.append(api.users.getSubscriptions(user_id=user))\n",
    "        # friends of any user in this public\n",
    "#         fields = \",\".join([\"sex\", \"bdate\", \"city\", \"country\", \"photo_50\", \"photo_100\", \"photo_200_orig\",\n",
    "#                     \"photo_200\", \"photo_400_orig\", \"photo_max\", \"photo_max_orig\", \"photo_id\", \"online\",\n",
    "#                     \"online_mobile\", \"domain\", \"has_mobile\", \"contacts\", \"connections\", \"site\", \"education\",\n",
    "#                     \"universities\", \"schools\", \"can_post\", \"can_see_all_posts\", \"can_see_audio\",\n",
    "#                     \"can_write_private_message\", \"status\", \"last_seen\", \"relation\",\n",
    "#                     \"relatives\", \"counters\", \"screen_name\", \"maiden_name\", \"timezone\", \"occupation,activities\",\n",
    "#                     \"interests\", \"music\", \"movies\", \"tv\", \"books\", \"games\", \"about\", \"quotes\", \"personal\",\n",
    "#                     \"friends_status\"])\n",
    "#         friends_users.append(vk.method(\"friends.get\", {\"user_id\": user, \"fields\": fields}))\n",
    "\n",
    "    return data_for_clustering, users_publicpages"
   ]
  },
  {
   "cell_type": "code",
   "execution_count": 6,
   "metadata": {
    "ExecuteTime": {
     "end_time": "2016-12-10T13:17:52.251995",
     "start_time": "2016-12-10T13:17:49.852908"
    },
    "collapsed": false
   },
   "outputs": [
    {
     "name": "stderr",
     "output_type": "stream",
     "text": [
      "100%|██████████| 38/38 [00:02<00:00, 17.40it/s]\n"
     ]
    }
   ],
   "source": [
    "a = get_many_of_public(134459481)"
   ]
  },
  {
   "cell_type": "code",
   "execution_count": null,
   "metadata": {
    "collapsed": true
   },
   "outputs": [],
   "source": []
  }
 ],
 "metadata": {
  "kernelspec": {
   "display_name": "Python 3",
   "language": "python",
   "name": "python3"
  },
  "language_info": {
   "codemirror_mode": {
    "name": "ipython",
    "version": 3
   },
   "file_extension": ".py",
   "mimetype": "text/x-python",
   "name": "python",
   "nbconvert_exporter": "python",
   "pygments_lexer": "ipython3",
   "version": "3.5.2"
  }
 },
 "nbformat": 4,
 "nbformat_minor": 2
}
