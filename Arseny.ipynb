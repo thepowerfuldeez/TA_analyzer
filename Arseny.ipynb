{
 "cells": [
  {
   "cell_type": "code",
   "execution_count": 79,
   "metadata": {
    "collapsed": false
   },
   "outputs": [
    {
     "name": "stdout",
     "output_type": "stream",
     "text": [
      "[1025, 1132, 3927, 4862, 5431, 5481, 5509, 5704, 5788, 5943]\n"
     ]
    }
   ],
   "source": [
    "# граббинг пабликов\n",
    "import vk\n",
    "passwd = \"\"\n",
    "vk.logger.setLevel('NOTSET')\n",
    "with open('../pass.txt', 'r') as f:\n",
    "    passwd = f.read()\n",
    "session = vk.AuthSession(app_id='5769226', user_login='egoroff-ars@yandex.ru', user_password=passwd[:-1])\n",
    "api = vk.API(session)\n",
    "users = api.groups.getMembers(group_id=\"itcookies\")\n",
    "print(users['users'][:10])\n",
    "to_return = [ \"sex\", \"bdate\", \"city\", \"country\", \"home_town\", \"universities\", \"schools\",\"interests\", \"timezone\"]"
   ]
  },
  {
   "cell_type": "code",
   "execution_count": 102,
   "metadata": {
    "collapsed": false
   },
   "outputs": [
    {
     "name": "stdout",
     "output_type": "stream",
     "text": [
      "1000\n",
      "25\n"
     ]
    }
   ],
   "source": [
    "new_info = api.users.get(user_ids=users['users'], fields=to_return)\n",
    "have_interests = []\n",
    "print(len(new_info))\n",
    "p = 0\n",
    "for i in new_info:\n",
    "    if 'deactivated' in i and i['deactivated'] == 'banned':\n",
    "        \n",
    "        if i['deactivated'] == 'banned' or 'interests' not in i:\n",
    "            new_info.remove(i)\n",
    "        else:\n",
    "            continue\n",
    "    except:\n",
    "        continue\n",
    "print(p)\n"
   ]
  },
  {
   "cell_type": "code",
   "execution_count": null,
   "metadata": {
    "collapsed": true
   },
   "outputs": [],
   "source": []
  }
 ],
 "metadata": {
  "anaconda-cloud": {},
  "kernelspec": {
   "display_name": "Python [conda root]",
   "language": "python",
   "name": "conda-root-py"
  },
  "language_info": {
   "codemirror_mode": {
    "name": "ipython",
    "version": 3
   },
   "file_extension": ".py",
   "mimetype": "text/x-python",
   "name": "python",
   "nbconvert_exporter": "python",
   "pygments_lexer": "ipython3",
   "version": "3.5.2"
  }
 },
 "nbformat": 4,
 "nbformat_minor": 1
}
