{
 "cells": [
  {
   "cell_type": "code",
   "execution_count": 7,
   "metadata": {
    "collapsed": false
   },
   "outputs": [
    {
     "name": "stdout",
     "output_type": "stream",
     "text": [
      "[{'screen_name': 'club134950794', 'name': 'WTF', 'photo': 'http://vk.com/images/community_50.png', 'photo_big': 'http://vk.com/images/community_200.png', 'gid': 134950794, 'type': 'group', 'is_closed': 0, 'photo_medium': 'http://vk.com/images/community_100.png'}, {'screen_name': 'club228', 'name': '228', 'photo': 'http://vk.com/images/community_50.png', 'photo_big': 'http://vk.com/images/community_200.png', 'gid': 228, 'type': 'event', 'is_closed': 0, 'photo_medium': 'http://vk.com/images/community_100.png'}]\n"
     ]
    }
   ],
   "source": [
    "# граббинг пабликов\n",
    "import vk\n",
    "passwd = \"\"\n",
    "with open('../pass.txt', 'r') as f:\n",
    "    passwd = f.read()\n",
    "session = vk.AuthSession(app_id='5769226', user_login='misham.exe@gmail.com', user_password=passwd)\n",
    "api = vk.API(session)\n",
    "print(api.groups.getById(group_ids=\"134950794\"))"
   ]
  }
 ],
 "metadata": {
  "kernelspec": {
   "display_name": "Python 3",
   "language": "python",
   "name": "python3"
  },
  "language_info": {
   "codemirror_mode": {
    "name": "ipython",
    "version": 3
   },
   "file_extension": ".py",
   "mimetype": "text/x-python",
   "name": "python",
   "nbconvert_exporter": "python",
   "pygments_lexer": "ipython3",
   "version": "3.5.1"
  }
 },
 "nbformat": 4,
 "nbformat_minor": 0
}
