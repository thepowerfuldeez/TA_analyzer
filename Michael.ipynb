{
 "cells": [
  {
   "cell_type": "code",
   "execution_count": 37,
   "metadata": {
    "collapsed": false
   },
   "outputs": [
    {
     "data": {
      "text/plain": [
       "[{'deactivated': 'banned',\n",
       "  'gid': 2,\n",
       "  'is_closed': 0,\n",
       "  'name': 'I ♥ VIPROJECT | VIP CLUB',\n",
       "  'photo': 'http://vk.com/images/deactivated_50.png',\n",
       "  'photo_big': 'http://vk.com/images/deactivated_200.png',\n",
       "  'photo_medium': 'http://vk.com/images/deactivated_100.png',\n",
       "  'screen_name': 'club2',\n",
       "  'type': 'group'}]"
      ]
     },
     "execution_count": 37,
     "metadata": {},
     "output_type": "execute_result"
    }
   ],
   "source": [
    "# граббинг пабликов\n",
    "import vk\n",
    "passwd = \"\"\n",
    "with open('../pass.txt', 'r') as f:\n",
    "    passwd = f.read()\n",
    "session = vk.AuthSession(app_id='5769226', user_login='misham.exe@gmail.com', user_password=passwd)\n",
    "api = vk.API(session)\n",
    "groups = api.groups.getById(group_ids=\"2\")\n",
    "available = lambda group: not bool(group['is_closed']) and 'deactivated' in group\n",
    "list(filter(available, groups))\n"
   ]
  },
  {
   "cell_type": "code",
   "execution_count": 35,
   "metadata": {
    "collapsed": false
   },
   "outputs": [
    {
     "data": {
      "text/plain": [
       "[{'gid': 10639516,\n",
       "  'is_closed': 0,\n",
       "  'name': 'MDK',\n",
       "  'photo': 1,\n",
       "  'photo_big': 'https://vk.com/images/community_200.png',\n",
       "  'photo_medium': 'https://vk.com/images/community_100.png',\n",
       "  'screen_name': 'mdk',\n",
       "  'type': 'page'}]"
      ]
     },
     "execution_count": 35,
     "metadata": {},
     "output_type": "execute_result"
    }
   ],
   "source": [
    "groups = api.groups.getById(group_ids=\"mdk\")\n",
    "available = lambda group: not bool(group['is_closed']) and 'deactivated' not in group\n",
    "list(filter(available, groups))"
   ]
  },
  {
   "cell_type": "code",
   "execution_count": null,
   "metadata": {
    "collapsed": true
   },
   "outputs": [],
   "source": []
  }
 ],
 "metadata": {
  "anaconda-cloud": {},
  "kernelspec": {
   "display_name": "Python 3",
   "language": "python",
   "name": "python3"
  },
  "language_info": {
   "codemirror_mode": {
    "name": "ipython",
    "version": 3
   },
   "file_extension": ".py",
   "mimetype": "text/x-python",
   "name": "python",
   "nbconvert_exporter": "python",
   "pygments_lexer": "ipython3",
   "version": "3.5.2"
  }
 },
 "nbformat": 4,
 "nbformat_minor": 0
}
